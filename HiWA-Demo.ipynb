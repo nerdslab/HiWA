{
 "cells": [
  {
   "cell_type": "code",
   "execution_count": null,
   "metadata": {},
   "outputs": [],
   "source": [
    "import numpy as np\n",
    "from src import utils, hiwa\n",
    "from sklearn.decomposition import PCA, FactorAnalysis\n",
    "from sklearn.manifold import Isomap\n",
    "import time\n",
    "import matplotlib.pyplot as plt"
   ]
  },
  {
   "cell_type": "code",
   "execution_count": null,
   "metadata": {},
   "outputs": [],
   "source": [
    "T_te, T_tr, X_te, X_tr, Y_te, Y_tr = utils.load_data('data\\\\mihi_demo.mat')\n",
    "\n",
    "Y_te_3d = FactorAnalysis(n_components=3).fit_transform(utils.remove_const_cols(Y_te))\n",
    "X_tr_3d = utils.map_X_3D(X_tr)\n",
    "X_transform = np.linalg.pinv(X_tr_3d) @ X_tr\n",
    "\n",
    "t1 = time.time()\n",
    "hwa = hiwa.HiWA(dim_red_method=Isomap(n_components=2), normal=True)\n",
    "hwa.fit(Y_te_3d, T_te.squeeze(), X_tr_3d, T_tr.squeeze(), Y_transform=X_transform, Rgt=utils.LS_oracle(utils.map_X_3D(X_te), Y_te_3d))\n",
    "Y_te_rec = hwa.transform(Y_te_3d)\n",
    "t2 = time.time()\n",
    "\n",
    "r2_hwa = utils.eval_R2(Y_te_rec, utils.map_X_3D(X_te))\n",
    "print(t2 - t1)"
   ]
  },
  {
   "cell_type": "code",
   "execution_count": null,
   "metadata": {},
   "outputs": [],
   "source": [
    "plt.figure(figsize=(20, 6))\n",
    "plt.subplot(1, 5, 1)\n",
    "plt.title('Training')\n",
    "utils.color_data(X_tr, T_tr)\n",
    "plt.subplot(1, 5, 2)\n",
    "plt.title('HiWA ($R^2 = $ %.4f)' %r2_hwa)\n",
    "utils.color_data(Y_te_rec, T_te)\n",
    "ax = plt.subplot(1, 5, 3)\n",
    "plt.plot(hwa.diagnostics['Rg_norm'])\n",
    "ax.set_yscale('log')\n",
    "plt.subplot(1, 5, 4)\n",
    "plt.imshow(hwa.P)\n",
    "plt.xticks(np.arange(4))\n",
    "plt.yticks(np.arange(4))\n",
    "plt.title('Entropy$ = $ %.4f' %(-np.sum(hwa.P * np.log(hwa.P))))\n",
    "plt.subplot(1, 5, 5)\n",
    "plt.imshow(hwa.diagnostics['C'])\n",
    "c = plt.colorbar()"
   ]
  },
  {
   "cell_type": "code",
   "execution_count": null,
   "metadata": {},
   "outputs": [],
   "source": []
  }
 ],
 "metadata": {
  "kernelspec": {
   "display_name": "Python 3",
   "language": "python",
   "name": "python3"
  },
  "language_info": {
   "codemirror_mode": {
    "name": "ipython",
    "version": 3
   },
   "file_extension": ".py",
   "mimetype": "text/x-python",
   "name": "python",
   "nbconvert_exporter": "python",
   "pygments_lexer": "ipython3",
   "version": "3.7.3"
  }
 },
 "nbformat": 4,
 "nbformat_minor": 2
}
