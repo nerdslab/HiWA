{
 "cells": [
  {
   "cell_type": "code",
   "execution_count": null,
   "metadata": {},
   "outputs": [],
   "source": [
    "# Import some necessary packages\n",
    "import numpy as np\n",
    "from src import utils, hiwa\n",
    "from sklearn.decomposition import PCA, FactorAnalysis\n",
    "from sklearn.manifold import Isomap\n",
    "import time\n",
    "import matplotlib.pyplot as plt"
   ]
  },
  {
   "cell_type": "code",
   "execution_count": null,
   "metadata": {},
   "outputs": [],
   "source": [
    "# Load the datasets from a .mat file\n",
    "T_te, T_tr, X_te, X_tr, Y_te, Y_tr = utils.load_data('data\\\\mihi_demo.mat')\n",
    "\n",
    "# Apply initial dimensionality reduction\n",
    "Y_te_3d = FactorAnalysis(n_components=3).fit_transform(utils.remove_const_cols(Y_te))\n",
    "X_tr_3d = utils.map_X_3D(X_tr)\n",
    "X_transform = np.linalg.pinv(X_tr_3d) @ X_tr\n",
    "\n",
    "# Fit the model and transform the source dataset\n",
    "t1 = time.time()\n",
    "# This indicates to the model it should compute a low-d embedding with isomap, and that the parameter datasets will not be normalized\n",
    "hwa = hiwa.HiWA(dim_red_method=Isomap(n_components=2), normalize=True)\n",
    "# Fit the model, also passing in the correct rotation in Rgt since we can calculate it in this case (for computing error metrics)\n",
    "# Note that we can provide the low-d mapping for either the source or target; the model will calculate whatever isn't provided using the technique\n",
    "# indicated during initialization.\n",
    "hwa.fit(Y_te_3d, T_te.squeeze(), X_tr_3d, T_tr.squeeze(), Y_transform=X_transform, Rgt=utils.LS_oracle(utils.map_X_3D(X_te), Y_te_3d))\n",
    "# Transform the dataset with the learned rotation\n",
    "Y_te_rec = hwa.transform(Y_te_3d)\n",
    "t2 = time.time()\n",
    "print(t2 - t1)\n",
    "\n",
    "r2_hwa = utils.eval_R2(Y_te_rec, utils.map_X_3D(X_te))"
   ]
  },
  {
   "cell_type": "code",
   "execution_count": null,
   "metadata": {},
   "outputs": [],
   "source": [
    "# Plot the results, plus some diagnostics\n",
    "plt.figure(figsize=(20, 6))\n",
    "plt.subplot(1, 5, 1)\n",
    "plt.title('Target')\n",
    "utils.color_data(X_tr, T_tr.squeeze())\n",
    "plt.subplot(1, 5, 2)\n",
    "plt.title('HiWA ($R^2 = $ %.4f)' %r2_hwa)\n",
    "utils.color_data(Y_te_rec, T_te.squeeze())\n",
    "ax = plt.subplot(1, 5, 3)\n",
    "plt.plot(hwa.diagnostics['Rg_norm'])\n",
    "ax.set_yscale('log')\n",
    "plt.title('Residual Norm')\n",
    "plt.xlabel('Iteration')\n",
    "plt.subplot(1, 5, 4)\n",
    "plt.imshow(hwa.P)\n",
    "plt.xticks(np.arange(4))\n",
    "plt.yticks(np.arange(4))\n",
    "plt.title('Correspondence (Entropy$ = $ %.4f)' %(-np.sum(hwa.P * np.log(hwa.P))))\n",
    "plt.subplot(1, 5, 5)\n",
    "plt.title('Distance Matrix')\n",
    "plt.imshow(hwa.diagnostics['C'])\n",
    "c = plt.colorbar()"
   ]
  },
  {
   "cell_type": "code",
   "execution_count": null,
   "metadata": {},
   "outputs": [],
   "source": [
    "# Load the datasets from a numpy archive\n",
    "with np.load('data\\\\sleep_day1_60s.npz') as day1z:\n",
    "    ft1 = day1z['firing_times_d1']\n",
    "    l1 = day1z['labels_d1']\n",
    "with np.load('data\\\\sleep_day2_60s.npz') as day2z:\n",
    "    ft2 = day2z['firing_times_d2']\n",
    "    l2 = day2z['labels_d2']"
   ]
  },
  {
   "cell_type": "code",
   "execution_count": null,
   "metadata": {},
   "outputs": [],
   "source": [
    "# Apply initial dimensionality reduction\n",
    "pca = PCA(n_components=3)\n",
    "ft1_3d = pca.fit_transform(ft1)\n",
    "ft2_3d = pca.fit_transform(ft2)\n",
    "\n",
    "# Fit the model and transform the source dataset\n",
    "t1 = time.time()\n",
    "hwa = hiwa.HiWA(dim_red_method=PCA(n_components=2), normalize=True)\n",
    "ft1_rec = hwa.fit_transform(ft1_3d, l1, ft2_3d, l2)\n",
    "t2 = time.time()\n",
    "print(t2 - t1)"
   ]
  },
  {
   "cell_type": "code",
   "execution_count": null,
   "metadata": {},
   "outputs": [],
   "source": [
    "# Plot the results, plus some diagnostics\n",
    "plt.figure(figsize=(20, 6))\n",
    "plt.subplot(1, 5, 1)\n",
    "plt.title('Target')\n",
    "utils.color_data(ft2_3d, l2)\n",
    "plt.subplot(1, 5, 2)\n",
    "plt.title('HiWA')\n",
    "utils.color_data(ft1_rec, l1)\n",
    "ax = plt.subplot(1, 5, 3)\n",
    "plt.plot(hwa.diagnostics['Rg_norm'])\n",
    "ax.set_yscale('log')\n",
    "plt.title('Residual Norm')\n",
    "plt.xlabel('Iteration')\n",
    "plt.subplot(1, 5, 4)\n",
    "plt.imshow(hwa.P)\n",
    "plt.xticks(np.arange(4))\n",
    "plt.yticks(np.arange(4))\n",
    "plt.title('Correspondence (Entropy$ = $ %.4f)' %(-np.sum(hwa.P * np.log(hwa.P))))\n",
    "plt.subplot(1, 5, 5)\n",
    "plt.title('Distance Matrix')\n",
    "plt.imshow(hwa.diagnostics['C'])\n",
    "c = plt.colorbar()"
   ]
  },
  {
   "cell_type": "code",
   "execution_count": null,
   "metadata": {},
   "outputs": [],
   "source": [
    "# We're not limited to matching in 3D\n",
    "pca = PCA(n_components=5)\n",
    "ft1_5d = pca.fit_transform(ft1)\n",
    "ft2_5d = pca.fit_transform(ft2)\n",
    "\n",
    "# Fit the model and transform the source dataset\n",
    "t1 = time.time()\n",
    "hwa = hiwa.HiWA(dim_red_method=PCA(n_components=2), normalize=True)\n",
    "ft2_rec = hwa.fit_transform(ft2_5d, l2, ft1_5d, l1)\n",
    "t2 = time.time()\n",
    "print(t2 - t1)"
   ]
  },
  {
   "cell_type": "code",
   "execution_count": null,
   "metadata": {},
   "outputs": [],
   "source": [
    "# Plot the results, plus some diagnostics\n",
    "plt.figure(figsize=(20, 6))\n",
    "plt.subplot(1, 5, 1)\n",
    "plt.title('Target')\n",
    "utils.color_data(ft1_5d[:, 0:2], l1)\n",
    "plt.subplot(1, 5, 2)\n",
    "plt.title('HiWA')\n",
    "utils.color_data(ft2_rec[:, 0:2], l2)\n",
    "ax = plt.subplot(1, 5, 3)\n",
    "plt.plot(hwa.diagnostics['Rg_norm'])\n",
    "ax.set_yscale('log')\n",
    "plt.title('Residual Norm')\n",
    "plt.xlabel('Iteration')\n",
    "plt.subplot(1, 5, 4)\n",
    "plt.imshow(hwa.P)\n",
    "plt.xticks(np.arange(4))\n",
    "plt.yticks(np.arange(4))\n",
    "plt.title('Correspondence (Entropy$ = $ %.4f)' %(-np.sum(hwa.P * np.log(hwa.P))))\n",
    "plt.subplot(1, 5, 5)\n",
    "plt.title('Distance Matrix')\n",
    "plt.imshow(hwa.diagnostics['C'])\n",
    "c = plt.colorbar()"
   ]
  }
 ],
 "metadata": {
  "kernelspec": {
   "display_name": "Python 3",
   "language": "python",
   "name": "python3"
  },
  "language_info": {
   "codemirror_mode": {
    "name": "ipython",
    "version": 3
   },
   "file_extension": ".py",
   "mimetype": "text/x-python",
   "name": "python",
   "nbconvert_exporter": "python",
   "pygments_lexer": "ipython3",
   "version": "3.7.3"
  }
 },
 "nbformat": 4,
 "nbformat_minor": 2
}
